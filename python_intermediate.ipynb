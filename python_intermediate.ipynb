{
 "cells": [
  {
   "attachments": {},
   "cell_type": "markdown",
   "metadata": {},
   "source": [
    "# **Codewars:** Python Intermediate"
   ]
  },
  {
   "attachments": {},
   "cell_type": "markdown",
   "metadata": {},
   "source": [
    "### **Problem 1:**\n",
    "You have to write a function **\"printer_error\"** which given a string will return the error rate of the printer as a string<br>\n",
    "representing a rational whose numerator is the number of errors and the denominator the length of the control string.<br>\n",
    "Don't reduce this fraction to a simpler expression.\n",
    "\n",
    "The string has a length greater or equal to one and contains only letters from **\"a to z\"**."
   ]
  },
  {
   "cell_type": "code",
   "execution_count": 22,
   "metadata": {},
   "outputs": [
    {
     "data": {
      "text/plain": [
       "'3/56'"
      ]
     },
     "execution_count": 22,
     "metadata": {},
     "output_type": "execute_result"
    }
   ],
   "source": [
    "# My Solution\n",
    "def printer_error(s):\n",
    "    return f\"{len([x for x in s if x not in 'abcdefghijklm'])}/{len(s)}\"\n",
    "\n",
    "# Clever Solution\n",
    "def printer_error(s):\n",
    "  return f\"{sum(color > 'm' for color in s)}/{len(s)}\"\n",
    "\n",
    "s=\"aaaaaaaaaaaaaaaabbbbbbbbbbbbbbbbbbmmmmmmmmmmmmmmmmmmmxyz\"\n",
    "printer_error(s)"
   ]
  },
  {
   "attachments": {},
   "cell_type": "markdown",
   "metadata": {},
   "source": [
    "### **Problem 2:**\n",
    "Complete the method/function so that it converts dash/underscore delimited words into **camel casing**.<br>\n",
    "The first word within the output should be capitalized only if the original word was capitalized (known as Upper Camel Case,<br>\n",
    "also often referred to as Pascal case). The next words should be always capitalized.\n",
    "\n",
    "**Examples:**<br>\n",
    "**\"the-stealth-warrior\"** gets converted to **\"theStealthWarrior\"**<br>\n",
    "**\"The_Stealth_Warrior\"** gets converted to **\"TheStealthWarrior\"**"
   ]
  },
  {
   "cell_type": "code",
   "execution_count": 89,
   "metadata": {},
   "outputs": [
    {
     "data": {
      "text/plain": [
       "'theStealthWarrior'"
      ]
     },
     "execution_count": 89,
     "metadata": {},
     "output_type": "execute_result"
    }
   ],
   "source": [
    "# Best Practice\n",
    "def to_camel_case(text):\n",
    "    words = text.replace('_','-').split('-')\n",
    "    return words[0]+''.join([x.title() for x in words[1:]])\n",
    "\n",
    "# Clever Solution\n",
    "# import re\n",
    "# def to_camel_case(text):\n",
    "#     return re.sub('[_-](.)',lambda c:c[1].upper(),text)\n",
    "\n",
    "# s = 'a_Pippi-Was_Omoshiroi'\n",
    "s = 'the-stealth-warrior'\n",
    "to_camel_case(s)"
   ]
  },
  {
   "attachments": {},
   "cell_type": "markdown",
   "metadata": {},
   "source": [
    "### **Problem 3:**\n",
    "The marketing team is spending way too much time typing in hashtags.<br>\n",
    "Let's help them with our own Hashtag Generator!<br>\n",
    "\n",
    "Here's the deal:<br>\n",
    "\n",
    "* It must start with a hashtag (#).\n",
    "* All words must have their first letter capitalized.\n",
    "* If the final result is longer than 140 chars it must return false.\n",
    "* If the input or the result is an empty string it must return false.\n",
    "\n",
    "**Examples:**<br>\n",
    "\" Hello there thanks for trying my Kata\"  =>  **\"#HelloThereThanksForTryingMyKata\"**<br>\n",
    "\"    Hello     World   \"                  =>  **\"#HelloWorld\"**<br>\n",
    "\"\" ...................................... =>  **false**"
   ]
  },
  {
   "cell_type": "code",
   "execution_count": 13,
   "metadata": {},
   "outputs": [
    {
     "name": "stdout",
     "output_type": "stream",
     "text": [
      "#Codewars\n",
      "#Codewars\n",
      "#Codewars\n",
      "#CodewarsIsNice\n",
      "#CodewarsIsNice\n",
      "False\n",
      "#MsvelzildedTjeqvdvntdvFkkmpcohaeeKkyxfYQtwKbasywnbsniJbkbqnutykcIfsestjmpncDwbdjzdQuPyxjvgewsKCbcmtquosuzVpnwijliozfIdajdjswnys\n",
      "#AAAAaDabWdQwudbhqWkjdbJkqwdbkdb948Djq9W84D9*B84Wqjd1B89Q4Wkj89DbJk8QwdjK8Qwbd8Kj5Qwbd8Q1Wb9Jkd2Q5W9Jkdb1Qwjb8D1469B1989589\n",
      "False\n"
     ]
    }
   ],
   "source": [
    "# Best Practice\n",
    "def generate_hashtag(s):\n",
    "    ans = '#'+ str(s.title().replace(' ',''))\n",
    "    return s and not len(ans)>140 and ans or False\n",
    "\n",
    "\n",
    "\n",
    "tests = [\n",
    "generate_hashtag(\"Codewars\"),\n",
    "generate_hashtag(\"Codewars      \"),\n",
    "generate_hashtag(\"      Codewars\"),\n",
    "generate_hashtag(\"codewars is nice\"),\n",
    "generate_hashtag(\"CoDeWaRs is niCe\"),\n",
    "generate_hashtag(\"Looooooooooooooooooooooooooooooooooooooooooooooooooooooooooooooooooooooooooooooooooooooooooooooooooooooooooooooooooooooooooooooooooooooooooooooooooooooooooong\"),\n",
    "generate_hashtag(\"mSVElZIlDEd TJeqVdvntdv FkKMpcOhaeE kkYxF Y Qtw kbaSYWnBSNi jBKbQnuTYkc iFsESTJMpnC dwBdJZd  qu PYXJvGEwS K cbcmtqUosUZ vpNWiJLIozf IDAJDJSwnYS\"),\n",
    "generate_hashtag(\"a a a aa dab wd qwudbhq wkjdb jkqwdbkdb 948djq9w84 d9*b84wqjd1b89 q4wkj89db jk8qwdj k8qwbd 8kj5qwbd8 q1wb9jkd 2q5w9jkdb 1qwjb8d 1469b19 89589\"),\n",
    "generate_hashtag(\"\")]\n",
    "\n",
    "for i in tests:\n",
    "    print(i)"
   ]
  }
 ],
 "metadata": {
  "kernelspec": {
   "display_name": "base",
   "language": "python",
   "name": "python3"
  },
  "language_info": {
   "codemirror_mode": {
    "name": "ipython",
    "version": 3
   },
   "file_extension": ".py",
   "mimetype": "text/x-python",
   "name": "python",
   "nbconvert_exporter": "python",
   "pygments_lexer": "ipython3",
   "version": "3.9.15"
  },
  "orig_nbformat": 4,
  "vscode": {
   "interpreter": {
    "hash": "d164221d6c0d4933ec47cd7b103ec0dce806182fd36f781fe7c7605ff9ff8343"
   }
  }
 },
 "nbformat": 4,
 "nbformat_minor": 2
}
