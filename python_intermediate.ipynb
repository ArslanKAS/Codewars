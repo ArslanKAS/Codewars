{
 "cells": [
  {
   "attachments": {},
   "cell_type": "markdown",
   "metadata": {},
   "source": [
    "# **Codewars:** Python Intermediate"
   ]
  },
  {
   "attachments": {},
   "cell_type": "markdown",
   "metadata": {},
   "source": [
    "### **Problem 1:**\n",
    "You have to write a function **\"printer_error\"** which given a string will return the error rate of the printer as a string<br>\n",
    "representing a rational whose numerator is the number of errors and the denominator the length of the control string.<br>\n",
    "Don't reduce this fraction to a simpler expression.\n",
    "\n",
    "The string has a length greater or equal to one and contains only letters from **\"a to z\"**."
   ]
  },
  {
   "cell_type": "code",
   "execution_count": 22,
   "metadata": {},
   "outputs": [
    {
     "data": {
      "text/plain": [
       "'3/56'"
      ]
     },
     "execution_count": 22,
     "metadata": {},
     "output_type": "execute_result"
    }
   ],
   "source": [
    "# My Solution\n",
    "def printer_error(s):\n",
    "    return f\"{len([x for x in s if x not in 'abcdefghijklm'])}/{len(s)}\"\n",
    "\n",
    "# Clever Solution\n",
    "def printer_error(s):\n",
    "  return f\"{sum(color > 'm' for color in s)}/{len(s)}\"\n",
    "\n",
    "s=\"aaaaaaaaaaaaaaaabbbbbbbbbbbbbbbbbbmmmmmmmmmmmmmmmmmmmxyz\"\n",
    "printer_error(s)"
   ]
  },
  {
   "attachments": {},
   "cell_type": "markdown",
   "metadata": {},
   "source": [
    "### **Problem 2:**\n",
    "Complete the method/function so that it converts dash/underscore delimited words into **camel casing**.<br>\n",
    "The first word within the output should be capitalized only if the original word was capitalized (known as Upper Camel Case,<br>\n",
    "also often referred to as Pascal case). The next words should be always capitalized.\n",
    "\n",
    "**Examples:**<br>\n",
    "**\"the-stealth-warrior\"** gets converted to **\"theStealthWarrior\"**<br>\n",
    "**\"The_Stealth_Warrior\"** gets converted to **\"TheStealthWarrior\"**"
   ]
  },
  {
   "cell_type": "code",
   "execution_count": 89,
   "metadata": {},
   "outputs": [
    {
     "data": {
      "text/plain": [
       "'theStealthWarrior'"
      ]
     },
     "execution_count": 89,
     "metadata": {},
     "output_type": "execute_result"
    }
   ],
   "source": [
    "# Best Practice\n",
    "def to_camel_case(text):\n",
    "    words = text.replace('_','-').split('-')\n",
    "    return words[0]+''.join([x.title() for x in words[1:]])\n",
    "\n",
    "# Clever Solution\n",
    "# import re\n",
    "# def to_camel_case(text):\n",
    "#     return re.sub('[_-](.)',lambda c:c[1].upper(),text)\n",
    "\n",
    "# s = 'a_Pippi-Was_Omoshiroi'\n",
    "s = 'the-stealth-warrior'\n",
    "to_camel_case(s)"
   ]
  },
  {
   "attachments": {},
   "cell_type": "markdown",
   "metadata": {},
   "source": [
    "### **Problem 3:**\n",
    "The marketing team is spending way too much time typing in hashtags.<br>\n",
    "Let's help them with our own Hashtag Generator!<br>\n",
    "\n",
    "Here's the deal:<br>\n",
    "\n",
    "* It must start with a hashtag (#).\n",
    "* All words must have their first letter capitalized.\n",
    "* If the final result is longer than 140 chars it must return false.\n",
    "* If the input or the result is an empty string it must return false.\n",
    "\n",
    "**Examples:**<br>\n",
    "\" Hello there thanks for trying my Kata\"  =>  **\"#HelloThereThanksForTryingMyKata\"**<br>\n",
    "\"    Hello     World   \"                  =>  **\"#HelloWorld\"**<br>\n",
    "\"\" ...................................... =>  **false**"
   ]
  },
  {
   "cell_type": "code",
   "execution_count": 13,
   "metadata": {},
   "outputs": [
    {
     "name": "stdout",
     "output_type": "stream",
     "text": [
      "#Codewars\n",
      "#Codewars\n",
      "#Codewars\n",
      "#CodewarsIsNice\n",
      "#CodewarsIsNice\n",
      "False\n",
      "#MsvelzildedTjeqvdvntdvFkkmpcohaeeKkyxfYQtwKbasywnbsniJbkbqnutykcIfsestjmpncDwbdjzdQuPyxjvgewsKCbcmtquosuzVpnwijliozfIdajdjswnys\n",
      "#AAAAaDabWdQwudbhqWkjdbJkqwdbkdb948Djq9W84D9*B84Wqjd1B89Q4Wkj89DbJk8QwdjK8Qwbd8Kj5Qwbd8Q1Wb9Jkd2Q5W9Jkdb1Qwjb8D1469B1989589\n",
      "False\n"
     ]
    }
   ],
   "source": [
    "# Best Practice\n",
    "def generate_hashtag(s):\n",
    "    ans = '#'+ str(s.title().replace(' ',''))\n",
    "    return s and not len(ans)>140 and ans or False\n",
    "\n",
    "\n",
    "\n",
    "tests = [\n",
    "generate_hashtag(\"Codewars\"),\n",
    "generate_hashtag(\"Codewars      \"),\n",
    "generate_hashtag(\"      Codewars\"),\n",
    "generate_hashtag(\"codewars is nice\"),\n",
    "generate_hashtag(\"CoDeWaRs is niCe\"),\n",
    "generate_hashtag(\"Looooooooooooooooooooooooooooooooooooooooooooooooooooooooooooooooooooooooooooooooooooooooooooooooooooooooooooooooooooooooooooooooooooooooooooooooooooooooooong\"),\n",
    "generate_hashtag(\"mSVElZIlDEd TJeqVdvntdv FkKMpcOhaeE kkYxF Y Qtw kbaSYWnBSNi jBKbQnuTYkc iFsESTJMpnC dwBdJZd  qu PYXJvGEwS K cbcmtqUosUZ vpNWiJLIozf IDAJDJSwnYS\"),\n",
    "generate_hashtag(\"a a a aa dab wd qwudbhq wkjdb jkqwdbkdb 948djq9w84 d9*b84wqjd1b89 q4wkj89db jk8qwdj k8qwbd 8kj5qwbd8 q1wb9jkd 2q5w9jkdb 1qwjb8d 1469b19 89589\"),\n",
    "generate_hashtag(\"\")]\n",
    "\n",
    "for i in tests:\n",
    "    print(i)"
   ]
  },
  {
   "attachments": {},
   "cell_type": "markdown",
   "metadata": {},
   "source": [
    "### **Problem 4:**\n",
    "Write an algorithm that will identify valid IPv4 addresses in dot-decimal format.<br>\n",
    "IPs should be considered valid if they consist of four octets, with values between **0 and 255**, inclusive.\n",
    "\n",
    "##### **Valid Examples:**\n",
    "* 1.2.3.4\n",
    "* 123.45.67.89<br>\n",
    "##### **Invalid Examples:**\n",
    "* Starting with 0 such as 01 etc\n",
    "* 1.2.3\n",
    "* 1.2.3.4.5\n",
    "* 123.456.78.90\n",
    "* 123.045.067.089"
   ]
  },
  {
   "cell_type": "code",
   "execution_count": 61,
   "metadata": {},
   "outputs": [
    {
     "name": "stdout",
     "output_type": "stream",
     "text": [
      "False\n",
      "True\n",
      "False\n",
      "False\n",
      "False\n",
      "False\n",
      "False\n"
     ]
    }
   ],
   "source": [
    "# Best Practice #1\n",
    "import ipaddress\n",
    "def is_valid_IP(strng):\n",
    "    try:\n",
    "        ipaddress.ip_address(strng)\n",
    "        return True\n",
    "    except:\n",
    "        return False\n",
    "\n",
    "# Best Practice #2\n",
    "# import socket\n",
    "# def is_valid_IP(addr):\n",
    "#     try:\n",
    "#         socket.inet_pton(socket.AF_INET, addr)\n",
    "#         return True\n",
    "#     except socket.error:\n",
    "#         return False\n",
    "\n",
    "\n",
    "# Clever Solution #1\n",
    "# def is_valid_IP(s):\n",
    "#     return s.count('.')==3 and all(o.isdigit() and 0<=int(o)<=255 and str(int(o))==o for o in s.split('.'))\n",
    "\n",
    "\n",
    "\n",
    "# Clever Solution #2\n",
    "# def is_valid_IP(s):\n",
    "#     sp = s.split('.')\n",
    "#     return all(x in map(str,range(256))for x in sp)and len(sp)==4\n",
    "\n",
    "\n",
    "# Clever Solution #3\n",
    "# def is_valid_IP(strng):\n",
    "#     list = strng.split(\".\")\n",
    "#     for k in list:\n",
    "#         if k.isdigit() == False or len(list) != 4:\n",
    "#             return False\n",
    "#         elif (k.startswith(\"0\") and len(k) > 1) or int(k) > 255:\n",
    "#             return False\n",
    "#     return True   \n",
    "\n",
    "print(is_valid_IP(\"12.34.56 .1\"))\n",
    "print(is_valid_IP(\"0.0.0.0\"))\n",
    "print(is_valid_IP(\"12.34.56 .-1\"))\n",
    "print(is_valid_IP(\"123.1235.2576.3\"))\n",
    "print(is_valid_IP(\"023.7235.4576.3\"))\n",
    "print(is_valid_IP(\"abc.1235.2576.3\"))\n",
    "print(is_valid_IP(\"\"))"
   ]
  },
  {
   "cell_type": "code",
   "execution_count": 69,
   "metadata": {},
   "outputs": [
    {
     "name": "stdout",
     "output_type": "stream",
     "text": [
      "2367: False\n",
      "02: False\n"
     ]
    }
   ],
   "source": [
    "s = [\"2367\", \"23\", \"02\"]\n",
    "\n",
    "for k in s:\n",
    "    if (k.startswith(\"0\") and len(k) > 1) or int(k) > 255:\n",
    "        print(f\"{k}: {False}\")"
   ]
  },
  {
   "cell_type": "markdown",
   "metadata": {},
   "source": []
  }
 ],
 "metadata": {
  "kernelspec": {
   "display_name": "base",
   "language": "python",
   "name": "python3"
  },
  "language_info": {
   "codemirror_mode": {
    "name": "ipython",
    "version": 3
   },
   "file_extension": ".py",
   "mimetype": "text/x-python",
   "name": "python",
   "nbconvert_exporter": "python",
   "pygments_lexer": "ipython3",
   "version": "3.9.15"
  },
  "orig_nbformat": 4,
  "vscode": {
   "interpreter": {
    "hash": "d164221d6c0d4933ec47cd7b103ec0dce806182fd36f781fe7c7605ff9ff8343"
   }
  }
 },
 "nbformat": 4,
 "nbformat_minor": 2
}
