{
 "cells": [
  {
   "cell_type": "markdown",
   "metadata": {},
   "source": [
    "# **Codewars:** Python Fundamentals"
   ]
  },
  {
   "cell_type": "markdown",
   "metadata": {},
   "source": [
    "### **Problem 1:**\n",
    "Timmy & Sarah think they are in love, but around where they live, they will only know once they pick a flower each. If one of the flowers has an even number of petals and the other has an odd number of petals it means they are in love.\n",
    "\n",
    "Write a function that will take the number of petals of each flower and return true if they are in love and false if they aren't."
   ]
  },
  {
   "cell_type": "code",
   "execution_count": 1,
   "metadata": {},
   "outputs": [
    {
     "data": {
      "text/plain": [
       "1"
      ]
     },
     "execution_count": 1,
     "metadata": {},
     "output_type": "execute_result"
    }
   ],
   "source": [
    "# Best Practice\n",
    "def lovefunc( flower1, flower2 ):\n",
    "    return (flower1 + flower2) % 2\n",
    "\n",
    "lovefunc(30,31)\n",
    "\n",
    "# Clever solution\n",
    "# lovefunc = lambda a, b: (a ^ b) & 1"
   ]
  },
  {
   "cell_type": "markdown",
   "metadata": {},
   "source": [
    "### **Problem 2:**\n",
    "Sum all the numbers of a given array ( cq. list ), except the highest and the lowest element ( by value, not by index! ).\n",
    "The highest or lowest element respectively is a single element at each edge, even if there are more than one with the same value.\n",
    "Mind the input validation.\n",
    "\n",
    "If an empty value ( null, None, Nothing etc. ) is given instead of an array, or the given array is an empty list or a list with only 1 element, return 0."
   ]
  },
  {
   "cell_type": "code",
   "execution_count": 2,
   "metadata": {},
   "outputs": [
    {
     "data": {
      "text/plain": [
       "22"
      ]
     },
     "execution_count": 2,
     "metadata": {},
     "output_type": "execute_result"
    }
   ],
   "source": [
    "# Best Practice\n",
    "def sum_array(arr):\n",
    "    try: return sum(arr) - max(*arr) - min(*arr)\n",
    "    except: return 0\n",
    "\n",
    "sum_array([5,9,22,1,8])\n",
    "\n",
    "# Clever solution\n",
    "# def sum_array(arr):\n",
    "#     return sum(sorted(arr or [])[1:-1])\n",
    "\n",
    "# Fastest solution\n",
    "# def sum_array1(arr):\n",
    "#     return sum(arr) - (max(arr) + min(arr))"
   ]
  },
  {
   "attachments": {},
   "cell_type": "markdown",
   "metadata": {},
   "source": [
    "### **Problem 3:**\n",
    "You were camping with your friends far away from home, but when it's time to go back, you realize that your fuel is running out and the nearest pump is 50 miles away! You know that on average, your car runs on about 25 miles per gallon. There are 2 gallons left.\n",
    "\n",
    "Considering these factors, write a function that tells you if it is possible to get to the pump or not.\n",
    "\n",
    "Function should return true if it is possible and false if not."
   ]
  },
  {
   "cell_type": "code",
   "execution_count": 3,
   "metadata": {},
   "outputs": [
    {
     "data": {
      "text/plain": [
       "False"
      ]
     },
     "execution_count": 3,
     "metadata": {},
     "output_type": "execute_result"
    }
   ],
   "source": [
    "# Best Practice\n",
    "def zeroFuel(distance_to_pump, mpg, fuel_left):\n",
    "    return mpg*fuel_left >= distance_to_pump\n",
    "\n",
    "zeroFuel(16,11,1)"
   ]
  },
  {
   "attachments": {},
   "cell_type": "markdown",
   "metadata": {},
   "source": [
    "### **Problem 4:**\n",
    "Digital root is the recursive sum of all the digits in a number.\n",
    "\n",
    "Given n, take the sum of the digits of n. If that value has more than one digit,<br>continue reducing in this way until a single-digit number is produced. The input will be a non-negative integer.\n",
    "\n",
    "#### Examples:\n",
    "* 16  -->  1 + 6 = 7\n",
    "* 942  -->  9 + 4 + 2 = 15  -->  1 + 5 = 6\n",
    "* 132189  -->  1 + 3 + 2 + 1 + 8 + 9 = 24  -->  2 + 4 = 6\n",
    "* 493193  -->  4 + 9 + 3 + 1 + 9 + 3 = 29  -->  2 + 9 = 11  -->  1 + 1 = 2"
   ]
  },
  {
   "cell_type": "code",
   "execution_count": 6,
   "metadata": {},
   "outputs": [
    {
     "data": {
      "text/plain": [
       "5"
      ]
     },
     "execution_count": 6,
     "metadata": {},
     "output_type": "execute_result"
    }
   ],
   "source": [
    "# Best Practice\n",
    "def digital_root(n):\n",
    "    return n if n < 10 else digital_root(sum(map(int,str(n))))\n",
    "\n",
    "# Clever Solution\n",
    "# def digital_root(n):\n",
    "# \treturn n%9 or n and 9 \n",
    "\n",
    "digital_root(986)"
   ]
  },
  {
   "attachments": {},
   "cell_type": "markdown",
   "metadata": {},
   "source": [
    "### **Problem 5:**\n",
    "Your task is to construct a building which will be a pile of n cubes. The cube at the bottom will have a volume of n^3\n",
    ",the cube above will have volume of (n−1)^3 and so on until the top which will have a volume of 1^3.\n",
    "\n",
    "You are given the total volume m of the building. Being given m can you find the number n of cubes you will have to build?\n",
    "\n",
    "The parameter of the function findNb will be an integer m and you have to return the integer n such <br>\n",
    "as **n^3 + (n-1)^3 + (n-2)^3 + (n-3)^3 ... 1^3 = m** if such a n exists or -1 if there is no such n.\n",
    "\n",
    "Examples:\n",
    "findNb(1071225) --> 45\n",
    "\n",
    "findNb(91716553919377) --> -1"
   ]
  },
  {
   "cell_type": "code",
   "execution_count": 1,
   "metadata": {},
   "outputs": [
    {
     "data": {
      "text/plain": [
       "2022"
      ]
     },
     "execution_count": 1,
     "metadata": {},
     "output_type": "execute_result"
    }
   ],
   "source": [
    "# Best Practice\n",
    "def find_nb(m):\n",
    "    output = 1\n",
    "    check = 0\n",
    "    while check <= m:\n",
    "        check += output**3\n",
    "        if check == m: return output \n",
    "        output += 1\n",
    "    return -1\n",
    "\n",
    "find_nb(4183059834009)\n",
    "\n",
    "# m = 4183059834009\n",
    "# n = 2022"
   ]
  }
 ],
 "metadata": {
  "kernelspec": {
   "display_name": "Python 3.10.4 ('experiments')",
   "language": "python",
   "name": "python3"
  },
  "language_info": {
   "codemirror_mode": {
    "name": "ipython",
    "version": 3
   },
   "file_extension": ".py",
   "mimetype": "text/x-python",
   "name": "python",
   "nbconvert_exporter": "python",
   "pygments_lexer": "ipython3",
   "version": "3.10.4 | packaged by conda-forge | (main, Mar 30 2022, 08:38:02) [MSC v.1916 64 bit (AMD64)]"
  },
  "orig_nbformat": 4,
  "vscode": {
   "interpreter": {
    "hash": "2c6509fba79fc55280b1b16c13683e4475dd343bed06b3fbf71f5783e17f5ac7"
   }
  }
 },
 "nbformat": 4,
 "nbformat_minor": 2
}
